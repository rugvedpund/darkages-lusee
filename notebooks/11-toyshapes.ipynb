{
 "cells": [
  {
   "cell_type": "code",
   "execution_count": null,
   "id": "fb20a058",
   "metadata": {},
   "outputs": [],
   "source": [
    "import jax\n",
    "import jax.numpy as jnp"
   ]
  },
  {
   "cell_type": "code",
   "execution_count": null,
   "id": "0217370b",
   "metadata": {},
   "outputs": [],
   "source": [
    "# WARN: stupid jax doesn't like float64 by default\n",
    "jax.config.update(\"jax_enable_x64\", True)"
   ]
  },
  {
   "cell_type": "code",
   "execution_count": null,
   "id": "f14f2165",
   "metadata": {},
   "outputs": [],
   "source": [
    "import lusee\n",
    "import matplotlib.pyplot as plt\n",
    "import numpy as np\n",
    "import xarray as xr\n",
    "import xarray_einstats"
   ]
  },
  {
   "cell_type": "code",
   "execution_count": null,
   "id": "e37ba312",
   "metadata": {},
   "outputs": [],
   "source": [
    "import simflows.load as loader\n",
    "import simflows.pca as simpca\n",
    "import simflows.utils as simutils\n",
    "import simflows.jax as simjax"
   ]
  },
  {
   "cell_type": "markdown",
   "id": "f489f5c1",
   "metadata": {},
   "source": [
    "%%"
   ]
  },
  {
   "cell_type": "code",
   "execution_count": null,
   "id": "062d4f9b",
   "metadata": {
    "tags": []
   },
   "outputs": [],
   "source": [
    "\"\"\"\n",
    "play with shapes\n",
    "\"\"\""
   ]
  },
  {
   "cell_type": "code",
   "execution_count": null,
   "id": "c69a9863",
   "metadata": {
    "lines_to_next_cell": 2
   },
   "outputs": [],
   "source": [
    "# templates = loader.load_templates(freqs=jnp.linspace(1, 50, 393), da_amp=4e6)\n",
    "templates = loader.load_templates(da_amp=1)\n",
    "g = templates.plot.line(row=\"kind\", sharey=False)\n",
    "g.axs[0, 0].set_yscale(\"log\")\n",
    "plt.show()"
   ]
  },
  {
   "cell_type": "markdown",
   "id": "1780ceed",
   "metadata": {
    "lines_to_next_cell": 2
   },
   "source": [
    "%%"
   ]
  },
  {
   "cell_type": "code",
   "execution_count": null,
   "id": "b4e88a20",
   "metadata": {},
   "outputs": [],
   "source": [
    "ntimes = 650\n",
    "idxs = simjax.random_normal((ntimes, 1), seed=42, mean=2.5, sigma=0.5)\n",
    "amp30s = simjax.random_normal((ntimes, 1), seed=42, mean=1e5, sigma=1e6)\n",
    "mock = loader.load_mock_sim(idxs=idxs, amp30s=amp30s, da_amp=1)\n",
    "fg, da, cmb, sum, delta = mock"
   ]
  },
  {
   "cell_type": "markdown",
   "id": "fc65608f",
   "metadata": {
    "lines_to_next_cell": 2
   },
   "source": [
    "%%"
   ]
  },
  {
   "cell_type": "code",
   "execution_count": null,
   "id": "55f9e292",
   "metadata": {
    "lines_to_next_cell": 2
   },
   "outputs": [],
   "source": [
    "g=mock.sel(kind=['fg','delta']).mean('times').plot(col='kind',x=\"freqs\", yscale='log')\n",
    "plt.show()"
   ]
  },
  {
   "cell_type": "markdown",
   "id": "5aaee17b",
   "metadata": {},
   "source": [
    "%%"
   ]
  },
  {
   "cell_type": "markdown",
   "id": "350edf94",
   "metadata": {},
   "source": [
    "%%"
   ]
  },
  {
   "cell_type": "code",
   "execution_count": null,
   "id": "bbe4dfee",
   "metadata": {
    "lines_to_next_cell": 2
   },
   "outputs": [],
   "source": [
    "plt.figure(figsize=(13, 3))\n",
    "plt.subplot(131)\n",
    "plt.plot(idxs)\n",
    "plt.title('spectral index')\n",
    "plt.subplot(132)\n",
    "plt.semilogy(amp30s)\n",
    "plt.title('amplitude')\n",
    "plt.subplot(133)\n",
    "fg.plot(norm=simutils.lognorm(),x=\"times\")\n",
    "plt.tight_layout()\n",
    "plt.show()"
   ]
  },
  {
   "cell_type": "markdown",
   "id": "351cad6a",
   "metadata": {},
   "source": [
    "%%"
   ]
  },
  {
   "cell_type": "code",
   "execution_count": null,
   "id": "28c110b4",
   "metadata": {},
   "outputs": [],
   "source": [
    "mock.sel(kind=['fg','sum','delta']).plot(col='kind',x=\"times\", norm=simutils.symlognorm())\n",
    "plt.show()"
   ]
  },
  {
   "cell_type": "markdown",
   "id": "a528d598",
   "metadata": {},
   "source": [
    "%%"
   ]
  },
  {
   "cell_type": "code",
   "execution_count": null,
   "id": "b9d39d2b",
   "metadata": {},
   "outputs": [],
   "source": [
    "g=mock.sel(kind=['fg','sum']).mean('times').plot(col='kind',x=\"freqs\", yscale='log')\n",
    "plt.show()"
   ]
  },
  {
   "cell_type": "markdown",
   "id": "156ca8be",
   "metadata": {},
   "source": [
    "%%"
   ]
  },
  {
   "cell_type": "code",
   "execution_count": null,
   "id": "12ebf181",
   "metadata": {},
   "outputs": [],
   "source": [
    "g=mock.sel(kind=['fg','delta']).mean('times').plot(col='kind',x=\"freqs\", yscale='symlog')\n",
    "plt.show()"
   ]
  },
  {
   "cell_type": "markdown",
   "id": "3cda6fe0",
   "metadata": {},
   "source": [
    "%%"
   ]
  },
  {
   "cell_type": "code",
   "execution_count": null,
   "id": "b0577b0b",
   "metadata": {},
   "outputs": [],
   "source": [
    "plt.subplot(121)\n",
    "fg.plot(norm=simutils.lognorm(),x=\"times\")\n",
    "plt.subplot(122)\n",
    "mock['delta'].plot(x=\"times\", norm=simutils.symlognorm())\n",
    "plt.tight_layout()\n",
    "plt.show()"
   ]
  },
  {
   "cell_type": "markdown",
   "id": "4e616590",
   "metadata": {
    "lines_to_next_cell": 2
   },
   "source": [
    "%%"
   ]
  },
  {
   "cell_type": "markdown",
   "id": "c93d8ba7",
   "metadata": {},
   "source": [
    "%%"
   ]
  }
 ],
 "metadata": {
  "kernelspec": {
   "display_name": "lusee",
   "language": "python",
   "name": "lusee"
  },
  "language_info": {
   "codemirror_mode": {
    "name": "ipython",
    "version": 3
   },
   "file_extension": ".py",
   "mimetype": "text/x-python",
   "name": "python",
   "nbconvert_exporter": "python",
   "pygments_lexer": "ipython3",
   "version": "3.12.5"
  }
 },
 "nbformat": 4,
 "nbformat_minor": 5
}
